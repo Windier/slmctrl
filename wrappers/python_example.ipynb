{
 "cells": [
  {
   "cell_type": "code",
   "execution_count": 2,
   "metadata": {},
   "outputs": [],
   "source": [
    "import numpy as np\n",
    "import ctypes\n",
    "from SLMController import SLMController "
   ]
  },
  {
   "cell_type": "code",
   "execution_count": 3,
   "metadata": {},
   "outputs": [],
   "source": [
    "# Define parameters\n",
    "MAX_HOLOGRAMS = 400  # Maximum number of holograms\n",
    "N = 800             # Width of hologram\n",
    "M = 600             # Height of hologram\n",
    "\n",
    "# Initialize the SLMController\n",
    "slm = SLMController(MAX_HOLOGRAMS, N, M, r'C:\\dev\\slmctrl\\bin\\slmctrl.dll')\n",
    "\n"
   ]
  },
  {
   "cell_type": "code",
   "execution_count": 4,
   "metadata": {},
   "outputs": [],
   "source": [
    "# Start the UI on monitor 1\n",
    "monitor_id = 1\n",
    "slm.StartUI(monitor_id, windowed=True)"
   ]
  },
  {
   "cell_type": "code",
   "execution_count": 4,
   "metadata": {},
   "outputs": [],
   "source": [
    "slm.Cleanup()"
   ]
  },
  {
   "cell_type": "code",
   "execution_count": 7,
   "metadata": {},
   "outputs": [
    {
     "data": {
      "text/plain": [
       "1"
      ]
     },
     "execution_count": 7,
     "metadata": {},
     "output_type": "execute_result"
    }
   ],
   "source": [
    "# **Test 1: Insert and Display a Single Random Hologram**\n",
    "hologram = np.random.randint(0, 256, (N, M), dtype=np.uint8)  # Random grayscale hologram\n",
    "offset = 100\n",
    "slm.InsertHolograms(hologram, offset)  # Insert at position 0\n",
    "slm.SetHologram(0)"
   ]
  },
  {
   "cell_type": "code",
   "execution_count": 11,
   "metadata": {},
   "outputs": [
    {
     "data": {
      "text/plain": [
       "257"
      ]
     },
     "execution_count": 11,
     "metadata": {},
     "output_type": "execute_result"
    }
   ],
   "source": [
    "# Define and start a sequence\n",
    "sequence = np.arange(MAX_HOLOGRAMS, dtype=np.uint64)  # Sequence of indices 0 to MAX_HOLOGRAMS-1\n",
    "slm.SetHologramSequence(sequence)                     # Set the sequence\n",
    "slm.StartSequence(MAX_HOLOGRAMS)"
   ]
  },
  {
   "cell_type": "code",
   "execution_count": 23,
   "metadata": {},
   "outputs": [
    {
     "data": {
      "text/plain": [
       "-1017044991"
      ]
     },
     "execution_count": 23,
     "metadata": {},
     "output_type": "execute_result"
    }
   ],
   "source": [
    "# **Test 2: Insert Multiple Random Holograms**\n",
    "num_holograms = 10\n",
    "holograms = np.random.randint(0, 256, (N, M, num_holograms), dtype=np.uint8)\n",
    "offset = 0\n",
    "slm.InsertHolograms(holograms, offset)  # Insert holograms starting at offset 0"
   ]
  },
  {
   "cell_type": "code",
   "execution_count": 12,
   "metadata": {},
   "outputs": [],
   "source": [
    "# **Test 3: Generate and Display Phase-Based Holograms**\n",
    "# Create coordinate grids\n",
    "x = np.linspace(-1, 1, M)\n",
    "y = np.linspace(-M/N, M/N, N)\n",
    "y_holoeye, x_holoeye = np.meshgrid(x, y)\n",
    "\n",
    "# Define a wedge function for phase patterns\n",
    "def wedge_holoeye(alpha, beta):\n",
    "    return beta * x_holoeye + alpha * y_holoeye\n",
    "\n",
    "# Generate holograms with random phase tilts\n",
    "holograms = np.zeros((N, M, MAX_HOLOGRAMS), dtype=np.uint8,  order='F')\n",
    "for i in range(MAX_HOLOGRAMS):\n",
    "    alpha = 50 * (np.random.rand() - 0.5)  # Random tilt in x\n",
    "    beta = 50 * (np.random.rand() - 0.5)   # Random tilt in y\n",
    "\n",
    "    phase = wedge_holoeye(alpha, beta)      # Compute phase\n",
    "    holograms[:,:,i] = (255 * (np.mod(phase, 2 * np.pi) / (2 * np.pi))).astype(np.uint8)\n",
    "\n",
    "# Insert and display the phase holograms\n",
    "offset = 0\n",
    "slm.InsertHolograms(holograms, offset)\n",
    "slm.SetHologram(0)\n",
    "sequence = np.arange(MAX_HOLOGRAMS, dtype=np.uint64)  # Sequence of indices 0 to MAX_HOLOGRAMS-1\n",
    "slm.SetHologramSequence(sequence)\n",
    "# slm.StartSequence(MAX_HOLOGRAMS)  # Display all holograms in sequence"
   ]
  },
  {
   "cell_type": "code",
   "execution_count": 13,
   "metadata": {},
   "outputs": [],
   "source": [
    "slm.Cleanup()"
   ]
  }
 ],
 "metadata": {
  "kernelspec": {
   "display_name": "3.13.5",
   "language": "python",
   "name": "python3"
  },
  "language_info": {
   "codemirror_mode": {
    "name": "ipython",
    "version": 3
   },
   "file_extension": ".py",
   "mimetype": "text/x-python",
   "name": "python",
   "nbconvert_exporter": "python",
   "pygments_lexer": "ipython3",
   "version": "3.13.5"
  }
 },
 "nbformat": 4,
 "nbformat_minor": 2
}
